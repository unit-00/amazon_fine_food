{
 "cells": [
  {
   "cell_type": "code",
   "execution_count": 1,
   "metadata": {},
   "outputs": [],
   "source": [
    "import gzip"
   ]
  },
  {
   "cell_type": "code",
   "execution_count": 47,
   "metadata": {},
   "outputs": [
    {
     "name": "stdout",
     "output_type": "stream",
     "text": [
      "MABEL \"Tell us about yourself!\n",
      "88 years old. ...\n",
      "\n",
      "Don Snyder \"The Idea Guy\n",
      "...creative powers b...\n",
      "\n",
      "Sherry \"Tell us about yourself!\n",
      "School Princi...\n",
      "\n",
      "Sherry \"Tell us about yourself!\n",
      "School Princi...\n",
      "\n",
      "J. Facey \"J.F., CA\n",
      "I am a voracious reader/li...\n",
      "\n",
      "Sherry \"Tell us about yourself!\n",
      "School Princi...\n",
      "\n",
      "Don Snyder \"The Idea Guy\n",
      "...creative powers b...\n",
      "\n"
     ]
    }
   ],
   "source": [
    "# Feature Extractions\n",
    "with gzip.open('finefoods.txt.gz', 'rt', encoding='latin-1') as f:\n",
    "    \n",
    "    text_csv = []\n",
    "    curr_review = []\n",
    "    \n",
    "    for idx, line in enumerate(f):\n",
    "        if line == '\\n':\n",
    "            text_csv.append(curr_review)\n",
    "            curr_review = []\n",
    "            continue\n",
    "\n",
    "        try:\n",
    "            colon = line.index(':')\n",
    "            field, value = line[:colon], line[colon+1:].strip()\n",
    "            curr_review.append(value)\n",
    "        except:\n",
    "            curr_review[-1] += '\\n' + line"
   ]
  },
  {
   "cell_type": "code",
   "execution_count": null,
   "metadata": {},
   "outputs": [],
   "source": [
    "fields = ['product/productId', \n",
    "              'review/userId', \n",
    "              'review/profileName', \n",
    "              'review/helpfulness',\n",
    "              'review/score',\n",
    "              'review/time',\n",
    "              'review/summary',\n",
    "              'review/text']\n",
    "    "
   ]
  },
  {
   "cell_type": "code",
   "execution_count": 49,
   "metadata": {},
   "outputs": [],
   "source": [
    "import csv\n",
    "\n",
    "with open('finefoods.csv', 'w') as csv_file:\n",
    "    csv_writer = csv.writer(csv_file)\n",
    "    \n",
    "    csv_writer.writerow(fields)\n",
    "    \n",
    "    csv_writer.writerows(text_csv)"
   ]
  },
  {
   "cell_type": "code",
   "execution_count": 1,
   "metadata": {},
   "outputs": [],
   "source": [
    "import pandas as pd\n",
    "\n",
    "import matplotlib.pyplot as plt\n",
    "import seaborn as sns\n",
    "\n",
    "sns.set('notebook',\n",
    "        font_scale=1.5,\n",
    "        rc={'figure.figsize': (12, 6)})\n",
    "sns.set_style('darkgrid')"
   ]
  },
  {
   "cell_type": "code",
   "execution_count": 2,
   "metadata": {},
   "outputs": [],
   "source": [
    "reviews = pd.read_csv('data/finefoods.csv.gz',\n",
    "                      compression='gzip')"
   ]
  },
  {
   "cell_type": "code",
   "execution_count": 3,
   "metadata": {},
   "outputs": [
    {
     "data": {
      "text/html": [
       "<div>\n",
       "<style scoped>\n",
       "    .dataframe tbody tr th:only-of-type {\n",
       "        vertical-align: middle;\n",
       "    }\n",
       "\n",
       "    .dataframe tbody tr th {\n",
       "        vertical-align: top;\n",
       "    }\n",
       "\n",
       "    .dataframe thead th {\n",
       "        text-align: right;\n",
       "    }\n",
       "</style>\n",
       "<table border=\"1\" class=\"dataframe\">\n",
       "  <thead>\n",
       "    <tr style=\"text-align: right;\">\n",
       "      <th></th>\n",
       "      <th>userId</th>\n",
       "      <th>itemId</th>\n",
       "      <th>rating</th>\n",
       "    </tr>\n",
       "  </thead>\n",
       "  <tbody>\n",
       "    <tr>\n",
       "      <th>0</th>\n",
       "      <td>A3SGXH7AUHU8GW</td>\n",
       "      <td>B001E4KFG0</td>\n",
       "      <td>5.0</td>\n",
       "    </tr>\n",
       "    <tr>\n",
       "      <th>1</th>\n",
       "      <td>A1D87F6ZCVE5NK</td>\n",
       "      <td>B00813GRG4</td>\n",
       "      <td>1.0</td>\n",
       "    </tr>\n",
       "    <tr>\n",
       "      <th>2</th>\n",
       "      <td>ABXLMWJIXXAIN</td>\n",
       "      <td>B000LQOCH0</td>\n",
       "      <td>4.0</td>\n",
       "    </tr>\n",
       "    <tr>\n",
       "      <th>3</th>\n",
       "      <td>A395BORC6FGVXV</td>\n",
       "      <td>B000UA0QIQ</td>\n",
       "      <td>2.0</td>\n",
       "    </tr>\n",
       "    <tr>\n",
       "      <th>4</th>\n",
       "      <td>A1UQRSCLF8GW1T</td>\n",
       "      <td>B006K2ZZ7K</td>\n",
       "      <td>5.0</td>\n",
       "    </tr>\n",
       "    <tr>\n",
       "      <th>...</th>\n",
       "      <td>...</td>\n",
       "      <td>...</td>\n",
       "      <td>...</td>\n",
       "    </tr>\n",
       "    <tr>\n",
       "      <th>568449</th>\n",
       "      <td>A28KG5XORO54AY</td>\n",
       "      <td>B001EO7N10</td>\n",
       "      <td>5.0</td>\n",
       "    </tr>\n",
       "    <tr>\n",
       "      <th>568450</th>\n",
       "      <td>A3I8AFVPEE8KI5</td>\n",
       "      <td>B003S1WTCU</td>\n",
       "      <td>2.0</td>\n",
       "    </tr>\n",
       "    <tr>\n",
       "      <th>568451</th>\n",
       "      <td>A121AA1GQV751Z</td>\n",
       "      <td>B004I613EE</td>\n",
       "      <td>5.0</td>\n",
       "    </tr>\n",
       "    <tr>\n",
       "      <th>568452</th>\n",
       "      <td>A3IBEVCTXKNOH</td>\n",
       "      <td>B004I613EE</td>\n",
       "      <td>5.0</td>\n",
       "    </tr>\n",
       "    <tr>\n",
       "      <th>568453</th>\n",
       "      <td>A3LGQPJCZVL9UC</td>\n",
       "      <td>B001LR2CU2</td>\n",
       "      <td>5.0</td>\n",
       "    </tr>\n",
       "  </tbody>\n",
       "</table>\n",
       "<p>568454 rows × 3 columns</p>\n",
       "</div>"
      ],
      "text/plain": [
       "                userId      itemId  rating\n",
       "0       A3SGXH7AUHU8GW  B001E4KFG0     5.0\n",
       "1       A1D87F6ZCVE5NK  B00813GRG4     1.0\n",
       "2        ABXLMWJIXXAIN  B000LQOCH0     4.0\n",
       "3       A395BORC6FGVXV  B000UA0QIQ     2.0\n",
       "4       A1UQRSCLF8GW1T  B006K2ZZ7K     5.0\n",
       "...                ...         ...     ...\n",
       "568449  A28KG5XORO54AY  B001EO7N10     5.0\n",
       "568450  A3I8AFVPEE8KI5  B003S1WTCU     2.0\n",
       "568451  A121AA1GQV751Z  B004I613EE     5.0\n",
       "568452   A3IBEVCTXKNOH  B004I613EE     5.0\n",
       "568453  A3LGQPJCZVL9UC  B001LR2CU2     5.0\n",
       "\n",
       "[568454 rows x 3 columns]"
      ]
     },
     "execution_count": 3,
     "metadata": {},
     "output_type": "execute_result"
    }
   ],
   "source": [
    "matrix = reviews[['review/userId', 'product/productId', 'review/score']]\n",
    "matrix = matrix.rename(columns={'review/userId': 'userId',\n",
    "                       'product/productId': 'itemId',\n",
    "                       'review/score': 'rating'})\n",
    "matrix"
   ]
  },
  {
   "cell_type": "code",
   "execution_count": 4,
   "metadata": {},
   "outputs": [
    {
     "data": {
      "text/plain": [
       "256059"
      ]
     },
     "execution_count": 4,
     "metadata": {},
     "output_type": "execute_result"
    }
   ],
   "source": [
    "matrix['userId'].nunique()"
   ]
  },
  {
   "cell_type": "code",
   "execution_count": 5,
   "metadata": {},
   "outputs": [],
   "source": [
    "user_review_counts = matrix['userId'].value_counts().sort_values(ascending=False)"
   ]
  },
  {
   "cell_type": "code",
   "execution_count": 23,
   "metadata": {},
   "outputs": [
    {
     "data": {
      "text/plain": [
       "248469"
      ]
     },
     "execution_count": 23,
     "metadata": {},
     "output_type": "execute_result"
    }
   ],
   "source": [
    "(user_review_counts < 10).sum()"
   ]
  },
  {
   "cell_type": "code",
   "execution_count": 7,
   "metadata": {},
   "outputs": [
    {
     "data": {
      "image/png": "[encoded data removed]",
      "text/plain": [
       "<Figure size 864x432 with 1 Axes>"
      ]
     },
     "metadata": {},
     "output_type": "display_data"
    }
   ],
   "source": [
    "sns.distplot(user_review_counts)\n",
    "plt.title('Distribution of Number of User\\'s Rating');\n",
    "plt.savefig('n_user_ratings.jpg')"
   ]
  },
  {
   "cell_type": "code",
   "execution_count": 8,
   "metadata": {},
   "outputs": [
    {
     "data": {
      "text/plain": [
       "74258"
      ]
     },
     "execution_count": 8,
     "metadata": {},
     "output_type": "execute_result"
    }
   ],
   "source": [
    "matrix['itemId'].nunique()"
   ]
  },
  {
   "cell_type": "code",
   "execution_count": 9,
   "metadata": {},
   "outputs": [],
   "source": [
    "item_review_counts = matrix['itemId'].value_counts().sort_values(ascending=False)"
   ]
  },
  {
   "cell_type": "code",
   "execution_count": 26,
   "metadata": {},
   "outputs": [
    {
     "data": {
      "text/plain": [
       "63639"
      ]
     },
     "execution_count": 26,
     "metadata": {},
     "output_type": "execute_result"
    }
   ],
   "source": [
    "(item_review_counts < 10).sum()"
   ]
  },
  {
   "cell_type": "code",
   "execution_count": 11,
   "metadata": {},
   "outputs": [
    {
     "data": {
      "image/png": "[encoded data removed]",
      "text/plain": [
       "<Figure size 864x432 with 1 Axes>"
      ]
     },
     "metadata": {},
     "output_type": "display_data"
    }
   ],
   "source": [
    "sns.distplot(item_review_counts)\n",
    "plt.title('Distribution of Number of Item\\'s Rating');\n",
    "plt.savefig('n_item_ratings.jpg')"
   ]
  },
  {
   "cell_type": "code",
   "execution_count": 13,
   "metadata": {},
   "outputs": [
    {
     "data": {
      "image/png": "[encoded data removed]",
      "text/plain": [
       "<Figure size 864x432 with 1 Axes>"
      ]
     },
     "metadata": {},
     "output_type": "display_data"
    }
   ],
   "source": [
    "sns.distplot(item_review_counts.head(100))\n",
    "plt.title('Distribution of the Top 100 Item Rated Counts');"
   ]
  },
  {
   "cell_type": "code",
   "execution_count": 10,
   "metadata": {},
   "outputs": [
    {
     "data": {
      "text/plain": [
       "count    568454.000000\n",
       "mean          4.183199\n",
       "std           1.310436\n",
       "min           1.000000\n",
       "25%           4.000000\n",
       "50%           5.000000\n",
       "75%           5.000000\n",
       "max           5.000000\n",
       "Name: rating, dtype: float64"
      ]
     },
     "execution_count": 10,
     "metadata": {},
     "output_type": "execute_result"
    }
   ],
   "source": [
    "matrix['rating'].describe()"
   ]
  },
  {
   "cell_type": "code",
   "execution_count": 14,
   "metadata": {},
   "outputs": [
    {
     "data": {
      "image/png": "[encoded data removed]",
      "text/plain": [
       "<Figure size 864x432 with 1 Axes>"
      ]
     },
     "metadata": {},
     "output_type": "display_data"
    }
   ],
   "source": [
    "sns.distplot(matrix['rating'])\n",
    "\n",
    "plt.title('Distribution of Ratings');\n",
    "plt.savefig('ratings.jpg')"
   ]
  },
  {
   "cell_type": "markdown",
   "metadata": {},
   "source": [
    "#### Model"
   ]
  },
  {
   "cell_type": "code",
   "execution_count": 8,
   "metadata": {},
   "outputs": [],
   "source": [
    "from surprise import Dataset, Reader\n",
    "from surprise.model_selection import cross_validate\n",
    "import numpy as np"
   ]
  },
  {
   "cell_type": "code",
   "execution_count": 9,
   "metadata": {},
   "outputs": [],
   "source": [
    "# Random seed\n",
    "\n",
    "np.random.seed(42)"
   ]
  },
  {
   "cell_type": "code",
   "execution_count": 11,
   "metadata": {},
   "outputs": [],
   "source": [
    "# parse file containing the ratings\n",
    "reader = Reader(rating_scale=(1, 5))\n",
    "# surprise base class dataset\n",
    "# data = Dataset.load_from_df(matrix[['userId', 'itemId', 'rating']], reader)"
   ]
  },
  {
   "cell_type": "code",
   "execution_count": 12,
   "metadata": {},
   "outputs": [],
   "source": [
    "# Grab items with more than 100 ratings\n",
    "greater_than_100_ratings = matrix['itemId'].value_counts().index[matrix['itemId'].value_counts() >= 100]\n",
    "\n",
    "# Create a matrix with those items\n",
    "small_matrix = matrix[matrix['itemId'].isin(greater_than_100_ratings)]\n",
    "\n",
    "small_data = Dataset.load_from_df(small_matrix, reader)"
   ]
  },
  {
   "cell_type": "code",
   "execution_count": 48,
   "metadata": {},
   "outputs": [],
   "source": [
    "a = matrix['itemId'].value_counts()"
   ]
  },
  {
   "cell_type": "code",
   "execution_count": 54,
   "metadata": {},
   "outputs": [
    {
     "data": {
      "text/plain": [
       "Index(['B007JFMH8M', 'B002QWHJOU', 'B0026RQTGE', 'B002QWP8H0', 'B002QWP89S',\n",
       "       'B003B3OOPA', 'B001EO5Q64', 'B006HYLW32', 'B0013NUGDE', 'B007M83302',\n",
       "       ...\n",
       "       'B000P52FLW', 'B001LXYA5Q', 'B000P54HVS', 'B000CQIDAG', 'B000CQBZV0',\n",
       "       'B000CQIDK6', 'B002TMV34E', 'B000EVMNMI', 'B004P4TL8E', 'B000H241DS'],\n",
       "      dtype='object', length=866)"
      ]
     },
     "execution_count": 54,
     "metadata": {},
     "output_type": "execute_result"
    }
   ],
   "source": [
    "a[a >= 100].index"
   ]
  },
  {
   "cell_type": "code",
   "execution_count": 7,
   "metadata": {},
   "outputs": [],
   "source": [
    "from surprise import BaselineOnly"
   ]
  },
  {
   "cell_type": "code",
   "execution_count": 142,
   "metadata": {},
   "outputs": [
    {
     "name": "stdout",
     "output_type": "stream",
     "text": [
      "Estimating biases using als...\n",
      "Estimating biases using als...\n",
      "Estimating biases using als...\n",
      "Estimating biases using als...\n",
      "Estimating biases using als...\n",
      "Evaluating RMSE, MAE of algorithm BaselineOnly on 5 split(s).\n",
      "\n",
      "                  Fold 1  Fold 2  Fold 3  Fold 4  Fold 5  Mean    Std     \n",
      "RMSE (testset)    1.1632  1.1662  1.1697  1.1725  1.1737  1.1691  0.0039  \n",
      "MAE (testset)     0.8984  0.9012  0.9027  0.9055  0.9055  0.9027  0.0027  \n",
      "Fit time          2.86    3.18    2.84    2.74    2.74    2.87    0.16    \n",
      "Test time         0.73    0.80    0.66    1.76    0.65    0.92    0.42    \n"
     ]
    }
   ],
   "source": [
    "algo = BaselineOnly()\n",
    "cross_validate(algo, data, measures=['RMSE', 'MAE'], cv=5, verbose=True);"
   ]
  },
  {
   "cell_type": "code",
   "execution_count": 6,
   "metadata": {},
   "outputs": [],
   "source": [
    "from surprise import SVD"
   ]
  },
  {
   "cell_type": "code",
   "execution_count": 69,
   "metadata": {},
   "outputs": [
    {
     "name": "stdout",
     "output_type": "stream",
     "text": [
      "Evaluating RMSE, MAE of algorithm SVD on 5 split(s).\n",
      "\n",
      "                  Fold 1  Fold 2  Fold 3  Fold 4  Fold 5  Mean    Std     \n",
      "RMSE (testset)    0.7624  0.7641  0.7651  0.7791  0.7647  0.7671  0.0061  \n",
      "MAE (testset)     0.5082  0.5110  0.5092  0.5208  0.5120  0.5122  0.0045  \n",
      "Fit time          9.13    9.61    9.41    9.26    9.64    9.41    0.20    \n",
      "Test time         0.32    0.33    0.44    0.38    0.31    0.35    0.05    \n"
     ]
    }
   ],
   "source": [
    "algo = SVD()\n",
    "cross_validate(algo, small_data, measures=['rmse', 'mae'], cv=5, verbose=True);"
   ]
  },
  {
   "cell_type": "code",
   "execution_count": 66,
   "metadata": {},
   "outputs": [],
   "source": [
    "from surprise import SVDpp"
   ]
  },
  {
   "cell_type": "code",
   "execution_count": 68,
   "metadata": {},
   "outputs": [
    {
     "name": "stdout",
     "output_type": "stream",
     "text": [
      "Evaluating RMSE, MAE of algorithm SVDpp on 5 split(s).\n",
      "\n",
      "                  Fold 1  Fold 2  Fold 3  Fold 4  Fold 5  Mean    Std     \n",
      "RMSE (testset)    0.7253  0.7280  0.7306  0.7363  0.7304  0.7301  0.0036  \n",
      "MAE (testset)     0.4565  0.4600  0.4650  0.4678  0.4669  0.4632  0.0043  \n",
      "Fit time          29.83   58.57   37.44   34.16   32.31   38.46   10.35   \n",
      "Test time         2.08    0.84    0.79    0.90    0.90    1.10    0.49    \n"
     ]
    }
   ],
   "source": [
    "algo = SVDpp()\n",
    "cross_validate(algo, small_data, measures=['rmse', 'mae'], cv=5, verbose=True);"
   ]
  },
  {
   "cell_type": "code",
   "execution_count": 9,
   "metadata": {},
   "outputs": [],
   "source": [
    "from surprise import NMF"
   ]
  },
  {
   "cell_type": "code",
   "execution_count": 146,
   "metadata": {},
   "outputs": [
    {
     "name": "stdout",
     "output_type": "stream",
     "text": [
      "Evaluating RMSE, MAE of algorithm NMF on 5 split(s).\n",
      "\n",
      "                  Fold 1  Fold 2  Fold 3  Fold 4  Fold 5  Mean    Std     \n",
      "RMSE (testset)    1.1449  1.1567  1.1448  1.1492  1.1484  1.1488  0.0043  \n",
      "MAE (testset)     0.8174  0.8254  0.8159  0.8170  0.8189  0.8189  0.0034  \n",
      "Fit time          59.11   57.38   56.98   57.34   57.15   57.59   0.77    \n",
      "Test time         0.88    1.94    0.86    0.84    0.85    1.07    0.44    \n"
     ]
    }
   ],
   "source": [
    "algo = NMF()\n",
    "cross_validate(algo, data, measures=['rmse', 'mae'], cv=5, verbose=True);"
   ]
  },
  {
   "cell_type": "code",
   "execution_count": 4,
   "metadata": {},
   "outputs": [],
   "source": [
    "from surprise import KNNBaseline, KNNBasic, KNNWithMeans"
   ]
  },
  {
   "cell_type": "code",
   "execution_count": 27,
   "metadata": {},
   "outputs": [],
   "source": [
    "# Random sample data\n",
    "matrix_sample = matrix.sample(n=int(matrix.shape[0]/20), random_state=42)\n",
    "data_sample = Dataset.load_from_df(matrix_sample, reader)"
   ]
  },
  {
   "cell_type": "code",
   "execution_count": 71,
   "metadata": {},
   "outputs": [
    {
     "name": "stdout",
     "output_type": "stream",
     "text": [
      "Estimating biases using als...\n",
      "Computing the msd similarity matrix...\n",
      "Done computing similarity matrix.\n",
      "Estimating biases using als...\n",
      "Computing the msd similarity matrix...\n",
      "Done computing similarity matrix.\n",
      "Estimating biases using als...\n",
      "Computing the msd similarity matrix...\n",
      "Done computing similarity matrix.\n",
      "Estimating biases using als...\n",
      "Computing the msd similarity matrix...\n",
      "Done computing similarity matrix.\n",
      "Estimating biases using als...\n",
      "Computing the msd similarity matrix...\n",
      "Done computing similarity matrix.\n",
      "Evaluating RMSE, MAE of algorithm KNNBaseline on 5 split(s).\n",
      "\n",
      "                  Fold 1  Fold 2  Fold 3  Fold 4  Fold 5  Mean    Std     \n",
      "RMSE (testset)    0.6560  0.6536  0.6498  0.6486  0.6559  0.6528  0.0031  \n",
      "MAE (testset)     0.3083  0.3069  0.3053  0.3053  0.3103  0.3072  0.0019  \n",
      "Fit time          0.69    0.70    1.06    0.67    0.79    0.78    0.15    \n",
      "Test time         0.92    0.90    1.12    1.34    0.87    1.03    0.18    \n"
     ]
    }
   ],
   "source": [
    "sim_options = {'user_based': False}\n",
    "algo = KNNBaseline(sim_options=sim_options)\n",
    "cross_validate(algo, small_data, measures=['rmse', 'mae'], cv=5, verbose=True);"
   ]
  },
  {
   "cell_type": "code",
   "execution_count": 78,
   "metadata": {},
   "outputs": [
    {
     "name": "stdout",
     "output_type": "stream",
     "text": [
      "Estimating biases using als...\n",
      "Computing the cosine similarity matrix...\n",
      "Done computing similarity matrix.\n",
      "Estimating biases using als...\n",
      "Computing the cosine similarity matrix...\n",
      "Done computing similarity matrix.\n",
      "Estimating biases using als...\n",
      "Computing the cosine similarity matrix...\n",
      "Done computing similarity matrix.\n",
      "Estimating biases using als...\n",
      "Computing the cosine similarity matrix...\n",
      "Done computing similarity matrix.\n",
      "Estimating biases using als...\n",
      "Computing the cosine similarity matrix...\n",
      "Done computing similarity matrix.\n",
      "Evaluating RMSE, MAE of algorithm KNNBaseline on 5 split(s).\n",
      "\n",
      "                  Fold 1  Fold 2  Fold 3  Fold 4  Fold 5  Mean    Std     \n",
      "RMSE (testset)    0.6758  0.6684  0.6807  0.6794  0.6672  0.6743  0.0056  \n",
      "MAE (testset)     0.3239  0.3224  0.3293  0.3278  0.3211  0.3249  0.0032  \n",
      "Fit time          0.85    0.85    0.87    0.77    0.76    0.82    0.05    \n",
      "Test time         1.42    0.93    1.02    1.06    1.61    1.21    0.26    \n"
     ]
    }
   ],
   "source": [
    "sim_options = {'name': 'pearson_baseline',\n",
    "               'user_based': False}\n",
    "algo = KNNBaseline(sim_options=sim_options)\n",
    "cross_validate(algo, small_data, measures=['rmse', 'mae'], cv=5, verbose=True);"
   ]
  },
  {
   "cell_type": "markdown",
   "metadata": {},
   "source": [
    "#### Hyperparameter search on SVD"
   ]
  },
  {
   "cell_type": "code",
   "execution_count": 80,
   "metadata": {},
   "outputs": [],
   "source": [
    "from surprise.model_selection import RandomizedSearchCV"
   ]
  },
  {
   "cell_type": "code",
   "execution_count": 81,
   "metadata": {},
   "outputs": [],
   "source": [
    "param_grid = {'n_factors': range(10, 101),\n",
    "              'n_epochs': range(20, 41),\n",
    "              'lr_all': np.linspace(5e-3, 5e-1, num=10),\n",
    "              'reg_all': np.linspace(2e-2, 1e-1, num=10)}\n",
    "\n",
    "rs = RandomizedSearchCV(SVD, param_grid, measures=['rmse', 'mae'], cv=3)\n",
    "\n",
    "rs.fit(small_data)"
   ]
  },
  {
   "cell_type": "code",
   "execution_count": 82,
   "metadata": {},
   "outputs": [
    {
     "name": "stdout",
     "output_type": "stream",
     "text": [
      "0.6542315448884888\n"
     ]
    },
    {
     "data": {
      "text/plain": [
       "{'n_factors': 82, 'n_epochs': 33, 'lr_all': 0.115, 'reg_all': 0.02}"
      ]
     },
     "execution_count": 82,
     "metadata": {},
     "output_type": "execute_result"
    }
   ],
   "source": [
    "print(rs.best_score['rmse'])\n",
    "rs.best_params['rmse']"
   ]
  },
  {
   "cell_type": "markdown",
   "metadata": {},
   "source": [
    "#### Hyperparameter search on KNN"
   ]
  },
  {
   "cell_type": "code",
   "execution_count": 83,
   "metadata": {},
   "outputs": [
    {
     "name": "stdout",
     "output_type": "stream",
     "text": [
      "Estimating biases using als...\n",
      "Computing the pearson similarity matrix...\n",
      "Done computing similarity matrix.\n",
      "Estimating biases using als...\n",
      "Computing the pearson similarity matrix...\n",
      "Done computing similarity matrix.\n",
      "Estimating biases using als...\n",
      "Computing the pearson similarity matrix...\n",
      "Done computing similarity matrix.\n",
      "Estimating biases using als...\n",
      "Computing the pearson similarity matrix...\n",
      "Done computing similarity matrix.\n",
      "Estimating biases using als...\n",
      "Computing the pearson similarity matrix...\n",
      "Done computing similarity matrix.\n",
      "Estimating biases using als...\n",
      "Computing the pearson similarity matrix...\n",
      "Done computing similarity matrix.\n",
      "Estimating biases using als...\n",
      "Computing the cosine similarity matrix...\n",
      "Done computing similarity matrix.\n",
      "Estimating biases using als...\n",
      "Computing the cosine similarity matrix...\n",
      "Done computing similarity matrix.\n",
      "Estimating biases using als...\n",
      "Computing the cosine similarity matrix...\n",
      "Done computing similarity matrix.\n",
      "Estimating biases using als...\n",
      "Computing the pearson_baseline similarity matrix...\n",
      "Done computing similarity matrix.\n",
      "Estimating biases using als...\n",
      "Computing the pearson_baseline similarity matrix...\n",
      "Done computing similarity matrix.\n",
      "Estimating biases using als...\n",
      "Computing the pearson_baseline similarity matrix...\n",
      "Done computing similarity matrix.\n",
      "Estimating biases using als...\n",
      "Computing the msd similarity matrix...\n",
      "Done computing similarity matrix.\n",
      "Estimating biases using als...\n",
      "Computing the msd similarity matrix...\n",
      "Done computing similarity matrix.\n",
      "Estimating biases using als...\n",
      "Computing the msd similarity matrix...\n",
      "Done computing similarity matrix.\n",
      "Estimating biases using als...\n",
      "Computing the msd similarity matrix...\n",
      "Done computing similarity matrix.\n",
      "Estimating biases using als...\n",
      "Computing the msd similarity matrix...\n",
      "Done computing similarity matrix.\n",
      "Estimating biases using als...\n",
      "Computing the msd similarity matrix...\n",
      "Done computing similarity matrix.\n",
      "Estimating biases using als...\n",
      "Computing the pearson_baseline similarity matrix...\n",
      "Done computing similarity matrix.\n",
      "Estimating biases using als...\n",
      "Computing the pearson_baseline similarity matrix...\n",
      "Done computing similarity matrix.\n",
      "Estimating biases using als...\n",
      "Computing the pearson_baseline similarity matrix...\n",
      "Done computing similarity matrix.\n",
      "Estimating biases using als...\n",
      "Computing the pearson similarity matrix...\n",
      "Done computing similarity matrix.\n",
      "Estimating biases using als...\n",
      "Computing the pearson similarity matrix...\n",
      "Done computing similarity matrix.\n",
      "Estimating biases using als...\n",
      "Computing the pearson similarity matrix...\n",
      "Done computing similarity matrix.\n",
      "Estimating biases using als...\n",
      "Computing the cosine similarity matrix...\n",
      "Done computing similarity matrix.\n",
      "Estimating biases using als...\n",
      "Computing the cosine similarity matrix...\n",
      "Done computing similarity matrix.\n",
      "Estimating biases using als...\n",
      "Computing the cosine similarity matrix...\n",
      "Done computing similarity matrix.\n",
      "Estimating biases using als...\n",
      "Computing the msd similarity matrix...\n",
      "Done computing similarity matrix.\n",
      "Estimating biases using als...\n",
      "Computing the msd similarity matrix...\n",
      "Done computing similarity matrix.\n",
      "Estimating biases using als...\n",
      "Computing the msd similarity matrix...\n",
      "Done computing similarity matrix.\n"
     ]
    }
   ],
   "source": [
    "param_grid = {'sim_options': {'name': ['msd', 'cosine', 'pearson', 'pearson_baseline'],\n",
    "                              'min_support': range(1, 6),\n",
    "                              'user_based': [False]},\n",
    "              'k': range(30, 61, 5),\n",
    "              'min_k': range(1, 11)}\n",
    "\n",
    "rs = RandomizedSearchCV(KNNBaseline, param_grid, measures=['rmse', 'mae'], cv=3)\n",
    "\n",
    "rs.fit(small_data)"
   ]
  },
  {
   "cell_type": "code",
   "execution_count": 84,
   "metadata": {},
   "outputs": [
    {
     "name": "stdout",
     "output_type": "stream",
     "text": [
      "0.6691366059802691\n"
     ]
    },
    {
     "data": {
      "text/plain": [
       "{'sim_options': {'name': 'pearson', 'min_support': 4, 'user_based': False},\n",
       " 'k': 35,\n",
       " 'min_k': 1}"
      ]
     },
     "execution_count": 84,
     "metadata": {},
     "output_type": "execute_result"
    }
   ],
   "source": [
    "print(rs.best_score['rmse'])\n",
    "rs.best_params['rmse']"
   ]
  },
  {
   "cell_type": "markdown",
   "metadata": {},
   "source": [
    "#### Train on full dataset for prediction"
   ]
  },
  {
   "cell_type": "markdown",
   "metadata": {},
   "source": [
    "#### SVD"
   ]
  },
  {
   "cell_type": "code",
   "execution_count": 13,
   "metadata": {},
   "outputs": [
    {
     "data": {
      "text/plain": [
       "<surprise.prediction_algorithms.matrix_factorization.SVD at 0x1a1e68dbe0>"
      ]
     },
     "execution_count": 13,
     "metadata": {},
     "output_type": "execute_result"
    }
   ],
   "source": [
    "best_params = {'n_factors': 82, 'n_epochs': 33, 'lr_all': 0.115, 'reg_all': 0.02}\n",
    "algo = SVD(**best_params)\n",
    "trainset = small_data.build_full_trainset()\n",
    "algo.fit(trainset)"
   ]
  },
  {
   "cell_type": "code",
   "execution_count": 60,
   "metadata": {},
   "outputs": [],
   "source": [
    "testset = trainset.build_anti_testset()"
   ]
  },
  {
   "cell_type": "code",
   "execution_count": 13,
   "metadata": {},
   "outputs": [
    {
     "data": {
      "text/plain": [
       "[('B000ET4SM8', 4.6742048925104145),\n",
       " ('B001L4JH5I', 4.660383060248657),\n",
       " ('B000O5DI1E', 4.6568253791785095),\n",
       " ('B000DZDJ0K', 4.590652183249116),\n",
       " ('B000ED9L9E', 4.586000147604597),\n",
       " ('B006J4MAIQ', 4.537794522331957),\n",
       " ('B007R900WA', 4.5333626652321195),\n",
       " ('B006J4MAUE', 4.532288184443564),\n",
       " ('B000FKQD42', 4.5277823848086305),\n",
       " ('B007JFMH8M', 4.511815567537025)]"
      ]
     },
     "execution_count": 13,
     "metadata": {},
     "output_type": "execute_result"
    }
   ],
   "source": [
    "predictions = [algo.predict(user, item) for user, item, _ in filter(lambda x: x[0] == 'A2NO1TXXS9T0EE', testset)]\n",
    "top_n = [(i, est) for u, i, true_r, est, _ in predictions]\n",
    "sorted(top_n, key=lambda x: x[1], reverse=True)[:10]"
   ]
  },
  {
   "cell_type": "code",
   "execution_count": null,
   "metadata": {},
   "outputs": [],
   "source": [
    "%%timeit\n",
    "ttt = trainset.build_anti_testset()"
   ]
  },
  {
   "cell_type": "markdown",
   "metadata": {},
   "source": [
    "#### KNN"
   ]
  },
  {
   "cell_type": "code",
   "execution_count": 20,
   "metadata": {},
   "outputs": [
    {
     "data": {
      "text/plain": [
       "range(0, 50267)"
      ]
     },
     "execution_count": 20,
     "metadata": {},
     "output_type": "execute_result"
    }
   ],
   "source": [
    "trainset.all_users()"
   ]
  },
  {
   "cell_type": "code",
   "execution_count": 15,
   "metadata": {},
   "outputs": [
    {
     "name": "stdout",
     "output_type": "stream",
     "text": [
      "Estimating biases using als...\n",
      "Computing the pearson similarity matrix...\n",
      "Done computing similarity matrix.\n"
     ]
    },
    {
     "data": {
      "text/plain": [
       "<surprise.prediction_algorithms.knns.KNNBaseline at 0x108cd7400>"
      ]
     },
     "execution_count": 15,
     "metadata": {},
     "output_type": "execute_result"
    }
   ],
   "source": [
    "best_params = {'sim_options': {'name': 'pearson', 'min_support': 4, 'user_based': False},\n",
    " 'k': 35,\n",
    " 'min_k': 1}\n",
    "\n",
    "algo = KNNBaseline(**best_params)\n",
    "algo.fit(trainset)"
   ]
  },
  {
   "cell_type": "code",
   "execution_count": 75,
   "metadata": {},
   "outputs": [
    {
     "data": {
      "text/plain": [
       "<generator object Trainset.all_ratings at 0x1a44836a98>"
      ]
     },
     "execution_count": 75,
     "metadata": {},
     "output_type": "execute_result"
    }
   ],
   "source": []
  },
  {
   "cell_type": "code",
   "execution_count": 18,
   "metadata": {},
   "outputs": [
    {
     "data": {
      "text/plain": [
       "['B007TJGZ5E',\n",
       " 'B003JA5KLM',\n",
       " 'B001J9QBU4',\n",
       " 'B007PA32OE',\n",
       " 'B000H7LVKY',\n",
       " 'B0051COPH6',\n",
       " 'B001HN5Z4K',\n",
       " 'B0058AMY74',\n",
       " 'B0012XBD7I',\n",
       " 'B000G6MBUA']"
      ]
     },
     "execution_count": 18,
     "metadata": {},
     "output_type": "execute_result"
    }
   ],
   "source": [
    "[algo.trainset.to_raw_iid(n) for n in algo.get_neighbors(0, 10)]"
   ]
  },
  {
   "cell_type": "markdown",
   "metadata": {},
   "source": [
    "#### Dumping algorithm"
   ]
  },
  {
   "cell_type": "code",
   "execution_count": 19,
   "metadata": {},
   "outputs": [],
   "source": [
    "from surprise import dump"
   ]
  },
  {
   "cell_type": "markdown",
   "metadata": {},
   "source": [
    "#### SVD dump"
   ]
  },
  {
   "cell_type": "code",
   "execution_count": 20,
   "metadata": {},
   "outputs": [
    {
     "data": {
      "text/plain": [
       "<surprise.prediction_algorithms.matrix_factorization.SVD at 0x1af9b72da0>"
      ]
     },
     "execution_count": 20,
     "metadata": {},
     "output_type": "execute_result"
    }
   ],
   "source": [
    "best_params = {'n_factors': 82, 'n_epochs': 33, 'lr_all': 0.115, 'reg_all': 0.02}\n",
    "algo = SVD(**best_params)\n",
    "trainset = small_data.build_full_trainset()\n",
    "algo.fit(trainset)\n",
    "\n",
    "testset = trainset.build_anti_testset() #Put anti testset in postgres"
   ]
  },
  {
   "cell_type": "code",
   "execution_count": 29,
   "metadata": {},
   "outputs": [],
   "source": [
    "dump.dump('svd_algo.dump', algo=algo)"
   ]
  },
  {
   "cell_type": "markdown",
   "metadata": {},
   "source": [
    "#### KNN dump"
   ]
  },
  {
   "cell_type": "code",
   "execution_count": 34,
   "metadata": {},
   "outputs": [
    {
     "name": "stdout",
     "output_type": "stream",
     "text": [
      "Estimating biases using als...\n",
      "Computing the pearson similarity matrix...\n",
      "Done computing similarity matrix.\n"
     ]
    },
    {
     "data": {
      "text/plain": [
       "<surprise.prediction_algorithms.knns.KNNBaseline at 0x1a48033f60>"
      ]
     },
     "execution_count": 34,
     "metadata": {},
     "output_type": "execute_result"
    }
   ],
   "source": [
    "best_params = {'sim_options': {'name': 'pearson', 'min_support': 4, 'user_based': False},\n",
    " 'k': 35,\n",
    " 'min_k': 1}\n",
    "\n",
    "algo = KNNBaseline(**best_params)\n",
    "algo.fit(trainset)"
   ]
  },
  {
   "cell_type": "code",
   "execution_count": 35,
   "metadata": {},
   "outputs": [],
   "source": [
    "dump.dump('knn_algo.dump', algo=algo)"
   ]
  },
  {
   "cell_type": "code",
   "execution_count": null,
   "metadata": {},
   "outputs": [],
   "source": []
  }
 ],
 "metadata": {
  "kernelspec": {
   "display_name": "Python 3",
   "language": "python",
   "name": "python3"
  },
  "language_info": {
   "codemirror_mode": {
    "name": "ipython",
    "version": 3
   },
   "file_extension": ".py",
   "mimetype": "text/x-python",
   "name": "python",
   "nbconvert_exporter": "python",
   "pygments_lexer": "ipython3",
   "version": "3.6.10"
  }
 },
 "nbformat": 4,
 "nbformat_minor": 4
}
